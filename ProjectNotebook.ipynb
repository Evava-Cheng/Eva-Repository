{
 "cells": [
  {
   "cell_type": "markdown",
   "metadata": {},
   "source": [
    "# Interactive Solid Figure Calculator"
   ]
  },
  {
   "cell_type": "markdown",
   "metadata": {},
   "source": [
    "My project is built on 12 functions to better help use this interactive solid figure calculator.\n",
    "\n",
    "Users can use this interactive solid figure calculator to calculate the volume of Sphere, Cube, Cuboid, Cone, and Cylinder. The user is going to enter a conversation, and this calculator will ask the user to input the name of the object for which the user is trying to solve the volume. Then the calculator will ask the user the number needed to calculate the volume, such as radius, width, height, and length. The user can keep doing the calculation again and again until they type in the word \"Stop\". This Interactive Solid Figure Calculator is very user-friendly because if the user accidentally inputs a wrong character, the program will tell the user to change the answer and try it again.\n",
    "\n",
    "For the code I have written, I first define the volume functions for each object (sphere_volume, cube_volume, cuboid_volume, cone_volume, cylinder_volume), and I call those volume functions in the calculation functions (calculate_sphere, calculate_cube, calculate_cuboid, calculate_cone, calculate_cylinder) to get the user inputs and give users feedbacks. And then, I call all the calculation functions in the main function named \"volume_calculator\". The main conversation takes place in volume_calculator."
   ]
  },
  {
   "cell_type": "markdown",
   "metadata": {},
   "source": [
    "## Project Code"
   ]
  },
  {
   "cell_type": "code",
   "execution_count": 7,
   "metadata": {},
   "outputs": [],
   "source": [
    "from my_module.functions import volume_calculator"
   ]
  },
  {
   "cell_type": "code",
   "execution_count": 8,
   "metadata": {},
   "outputs": [
    {
     "name": "stdout",
     "output_type": "stream",
     "text": [
      "\n",
      "Welcome!\n",
      "\n",
      "\n",
      "This program is going to help you to find the volume of the object which you would like to know.\n",
      "\n",
      "\n",
      "We currently can help you with Sphere, Cube, Cuboid, Cone, and Cylinder.\n",
      "\n",
      "\n",
      "Please choose one type from the objects above.\n",
      "\n",
      "What type of the obeject would you like to solve its volume for: cone\n",
      "\n",
      "You want to solve for the volume of a Cone. I need to know the radius and height of the Cone to calculate its volume.\n",
      "\n",
      "Please enter the radius of the Cone (you should enter a number): 3\n",
      "Please enter the height of the Cone (you should enter a number): 3\n",
      "\n",
      "The volume of the Cone with radius of 3.0 and height of 3.0 is 28.274333882308138.\n",
      "\n",
      "\n",
      "Do you want to try again? Type anything to continue, or type the word 'Stop' to end the program.\n",
      "stop\n",
      "\n",
      "Thank you for using. Have a good day!\n",
      "\n"
     ]
    }
   ],
   "source": [
    "volume_calculator()"
   ]
  },
  {
   "cell_type": "code",
   "execution_count": 9,
   "metadata": {},
   "outputs": [
    {
     "name": "stdout",
     "output_type": "stream",
     "text": [
      "\u001b[1m============================= test session starts ==============================\u001b[0m\r\n",
      "platform linux -- Python 3.8.6, pytest-6.2.1, py-1.10.0, pluggy-0.13.1\r\n",
      "rootdir: /home/yac013/Project_Sp21\r\n",
      "collected 5 items                                                              \u001b[0m\r\n",
      "\r\n",
      "my_module/test_functions.py \u001b[32m.\u001b[0m\u001b[32m.\u001b[0m\u001b[32m.\u001b[0m\u001b[32m.\u001b[0m\u001b[32m.\u001b[0m\u001b[32m                                        [100%]\u001b[0m\r\n",
      "\r\n",
      "\u001b[32m============================== \u001b[32m\u001b[1m5 passed\u001b[0m\u001b[32m in 0.02s\u001b[0m\u001b[32m ===============================\u001b[0m\r\n"
     ]
    }
   ],
   "source": [
    "!pytest my_module/test_functions.py"
   ]
  },
  {
   "cell_type": "markdown",
   "metadata": {},
   "source": [
    "#### Extra Credit\n",
    "\n",
    "1. It is my first time learning Python.\n",
    "2. I spent a lot of time on trying to write good functions, and I wrote 12 functions and 5 code tests in this project because every piece of the code of this project is made by functions. To be more user friendly, I used many user input and learned how to make a countdown mechanism and isnumeric() method by myself. The countdown mechanism makes the conversation easier to read for the user, and the isnumeric() method can help the code executes, without raising any error, on both expected and unexpected inputs."
   ]
  }
 ],
 "metadata": {
  "kernelspec": {
   "display_name": "Python 3",
   "language": "python",
   "name": "python3"
  },
  "language_info": {
   "codemirror_mode": {
    "name": "ipython",
    "version": 3
   },
   "file_extension": ".py",
   "mimetype": "text/x-python",
   "name": "python",
   "nbconvert_exporter": "python",
   "pygments_lexer": "ipython3",
   "version": "3.8.6"
  }
 },
 "nbformat": 4,
 "nbformat_minor": 2
}
